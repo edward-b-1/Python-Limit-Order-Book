{
 "cells": [
  {
   "cell_type": "code",
   "execution_count": 1,
   "metadata": {},
   "outputs": [],
   "source": [
    "import pandas\n",
    "import databento\n",
    "\n",
    "pandas.set_option('display.max_rows', 100)"
   ]
  },
  {
   "cell_type": "code",
   "execution_count": 4,
   "metadata": {},
   "outputs": [],
   "source": [
    "df = pandas.read_csv(\n",
    "    '../xnas-itch-20240105.mbo.dbn.orders.csv'\n",
    ")"
   ]
  },
  {
   "cell_type": "code",
   "execution_count": 5,
   "metadata": {},
   "outputs": [
    {
     "data": {
      "text/html": [
       "<div>\n",
       "<style scoped>\n",
       "    .dataframe tbody tr th:only-of-type {\n",
       "        vertical-align: middle;\n",
       "    }\n",
       "\n",
       "    .dataframe tbody tr th {\n",
       "        vertical-align: top;\n",
       "    }\n",
       "\n",
       "    .dataframe thead th {\n",
       "        text-align: right;\n",
       "    }\n",
       "</style>\n",
       "<table border=\"1\" class=\"dataframe\">\n",
       "  <thead>\n",
       "    <tr style=\"text-align: right;\">\n",
       "      <th></th>\n",
       "      <th>ts_recv</th>\n",
       "      <th>ts_event</th>\n",
       "      <th>rtype</th>\n",
       "      <th>publisher_id</th>\n",
       "      <th>instrument_id</th>\n",
       "      <th>action</th>\n",
       "      <th>side</th>\n",
       "      <th>price</th>\n",
       "      <th>size</th>\n",
       "      <th>channel_id</th>\n",
       "      <th>order_id</th>\n",
       "      <th>flags</th>\n",
       "      <th>ts_in_delta</th>\n",
       "      <th>sequence</th>\n",
       "      <th>symbol</th>\n",
       "    </tr>\n",
       "  </thead>\n",
       "  <tbody>\n",
       "    <tr>\n",
       "      <th>738</th>\n",
       "      <td>2024-01-05 09:02:25.511232443+00:00</td>\n",
       "      <td>2024-01-05 09:02:25.511065456+00:00</td>\n",
       "      <td>160</td>\n",
       "      <td>2</td>\n",
       "      <td>11667</td>\n",
       "      <td>A</td>\n",
       "      <td>A</td>\n",
       "      <td>480.16</td>\n",
       "      <td>100</td>\n",
       "      <td>0</td>\n",
       "      <td>261575</td>\n",
       "      <td>130</td>\n",
       "      <td>166987</td>\n",
       "      <td>414392</td>\n",
       "      <td>NVDA</td>\n",
       "    </tr>\n",
       "    <tr>\n",
       "      <th>759</th>\n",
       "      <td>2024-01-05 09:02:40.670687341+00:00</td>\n",
       "      <td>2024-01-05 09:02:40.670521174+00:00</td>\n",
       "      <td>160</td>\n",
       "      <td>2</td>\n",
       "      <td>11667</td>\n",
       "      <td>C</td>\n",
       "      <td>A</td>\n",
       "      <td>480.16</td>\n",
       "      <td>100</td>\n",
       "      <td>0</td>\n",
       "      <td>261575</td>\n",
       "      <td>130</td>\n",
       "      <td>166167</td>\n",
       "      <td>425512</td>\n",
       "      <td>NVDA</td>\n",
       "    </tr>\n",
       "  </tbody>\n",
       "</table>\n",
       "</div>"
      ],
      "text/plain": [
       "                                 ts_recv                             ts_event  \\\n",
       "738  2024-01-05 09:02:25.511232443+00:00  2024-01-05 09:02:25.511065456+00:00   \n",
       "759  2024-01-05 09:02:40.670687341+00:00  2024-01-05 09:02:40.670521174+00:00   \n",
       "\n",
       "     rtype  publisher_id  instrument_id action side   price  size  channel_id  \\\n",
       "738    160             2          11667      A    A  480.16   100           0   \n",
       "759    160             2          11667      C    A  480.16   100           0   \n",
       "\n",
       "     order_id  flags  ts_in_delta  sequence symbol  \n",
       "738    261575    130       166987    414392   NVDA  \n",
       "759    261575    130       166167    425512   NVDA  "
      ]
     },
     "execution_count": 5,
     "metadata": {},
     "output_type": "execute_result"
    }
   ],
   "source": [
    "df[df['order_id'] == 261575]"
   ]
  },
  {
   "cell_type": "code",
   "execution_count": 6,
   "metadata": {},
   "outputs": [],
   "source": [
    "df.to_csv(\n",
    "    '../order_id_261575.csv'\n",
    ")"
   ]
  }
 ],
 "metadata": {
  "kernelspec": {
   "display_name": ".venv",
   "language": "python",
   "name": "python3"
  },
  "language_info": {
   "codemirror_mode": {
    "name": "ipython",
    "version": 3
   },
   "file_extension": ".py",
   "mimetype": "text/x-python",
   "name": "python",
   "nbconvert_exporter": "python",
   "pygments_lexer": "ipython3",
   "version": "3.11.2"
  }
 },
 "nbformat": 4,
 "nbformat_minor": 2
}
